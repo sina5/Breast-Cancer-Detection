{
 "cells": [
  {
   "cell_type": "markdown",
   "metadata": {},
   "source": [
    "# Breast Cancer Detection\n",
    "You belong to the data team at a local research hospital. You've been tasked with developing a means to help doctors diagnose breast cancer. You've been given data about biopsied breast cells; where it is benign (not harmful) or malignant (cancerous).\n",
    "\n",
    "- What features of a cell are the largest drivers of malignancy? \n",
    "- Build a model that predicts whether a given biopsied breast cell is benign or malignant.\n",
    "- What features drive your false positive rate for your model you derived above, what features drive your false negative rate? \n",
    "- How would a physician use your product?\n",
    "- There is a non-zero cost in time and money to collect each feature about a given cell. \n",
    "- How would you go about determining the most cost-effective method of detecting malignancy?\n",
    "\n",
    "## Data:\n",
    "\n",
    "| Name | Range or Description |\n",
    "| :- | :- |\n",
    "| Sample code number | id number |\n",
    "| Clump Thickness | 1-10 |\n",
    "| Uniformity of Cell Size | 1-10 |\n",
    "| Uniformity of Cell Shape | 1-10 |\n",
    "| Marginal Adhesion | 1-10 |\n",
    "| Single Epithelial Cell Size | 1-10 |\n",
    "| Bare Nuclei | 1-10 |\n",
    "| Bland Chromatin | 1-10 |\n",
    "| Normal Nucleoli | 1-10 |\n",
    "| Mitoses | 1-10 |\n",
    "| Class | (4 for benign, 2 for malignant) |\n",
    "\n",
    "\n",
    "\n",
    "\n",
    "\n"
   ]
  },
  {
   "cell_type": "code",
   "execution_count": 13,
   "metadata": {},
   "outputs": [],
   "source": [
    "# Import libraries\n",
    "import pandas as pd\n",
    "import numpy as np\n",
    "import matplotlib.pyplot as plt\n",
    "import seaborn as sns\n",
    "from sklearn.model_selection import train_test_split\n",
    "from sklearn.naive_bayes import GaussianNB\n",
    "from sklearn.ensemble import RandomForestClassifier\n",
    "from sklearn.pipeline import Pipeline\n",
    "from sklearn.metrics import roc_auc_score\n",
    "%matplotlib inline"
   ]
  },
  {
   "cell_type": "markdown",
   "metadata": {},
   "source": [
    "# Dataset Information\n",
    "Let's explore the dataset."
   ]
  },
  {
   "cell_type": "code",
   "execution_count": 2,
   "metadata": {},
   "outputs": [
    {
     "output_type": "execute_result",
     "data": {
      "text/plain": "            ID  Clump Thickness Uniformity of Cell Size  \\\nIndex                                                     \n0      1241035                7                       8   \n1      1107684                6                      10   \n2       691628                8                       6   \n3      1226612                7                       5   \n4      1142706                5                      10   \n...        ...              ...                     ...   \n15850  1169049                7                       3   \n15851  1076352                3                       6   \n15852  1107684                6                      10   \n15853  1111249               10                       6   \n15854  1106829                7                       8   \n\n      Uniformity of Cell Shape Marginal Adhesion Single Epithelial Cell Size  \\\nIndex                                                                          \n0                            3                 7                           4   \n1                            5                 5                           4   \n2                            4                10                          10   \n3                            6                 3                           3   \n4                           10                10                           6   \n...                        ...               ...                         ...   \n15850                        4                 4                           3   \n15851                        4                10                           3   \n15852                        5                 5                           4   \n15853                        6                 3                           4   \n15854                        7                 2                           4   \n\n      Bare Nuclei Bland Chromatin Normal Nucleoli Mitoses Class  \nIndex                                                            \n0               5               7               8       2     4  \n1              10               6              10       1     4  \n2               1               3               5       1     4  \n3               8               7               4       1     4  \n4              10               6               5       2     4  \n...           ...             ...             ...     ...   ...  \n15850           3               3               2       7     4  \n15851           3               3               4       1     4  \n15852          10               6              10       1     4  \n15853           5               3               6       1     4  \n15854           8               3               8       2     4  \n\n[15855 rows x 11 columns]",
      "text/html": "<div>\n<style scoped>\n    .dataframe tbody tr th:only-of-type {\n        vertical-align: middle;\n    }\n\n    .dataframe tbody tr th {\n        vertical-align: top;\n    }\n\n    .dataframe thead th {\n        text-align: right;\n    }\n</style>\n<table border=\"1\" class=\"dataframe\">\n  <thead>\n    <tr style=\"text-align: right;\">\n      <th></th>\n      <th>ID</th>\n      <th>Clump Thickness</th>\n      <th>Uniformity of Cell Size</th>\n      <th>Uniformity of Cell Shape</th>\n      <th>Marginal Adhesion</th>\n      <th>Single Epithelial Cell Size</th>\n      <th>Bare Nuclei</th>\n      <th>Bland Chromatin</th>\n      <th>Normal Nucleoli</th>\n      <th>Mitoses</th>\n      <th>Class</th>\n    </tr>\n    <tr>\n      <th>Index</th>\n      <th></th>\n      <th></th>\n      <th></th>\n      <th></th>\n      <th></th>\n      <th></th>\n      <th></th>\n      <th></th>\n      <th></th>\n      <th></th>\n      <th></th>\n    </tr>\n  </thead>\n  <tbody>\n    <tr>\n      <th>0</th>\n      <td>1241035</td>\n      <td>7</td>\n      <td>8</td>\n      <td>3</td>\n      <td>7</td>\n      <td>4</td>\n      <td>5</td>\n      <td>7</td>\n      <td>8</td>\n      <td>2</td>\n      <td>4</td>\n    </tr>\n    <tr>\n      <th>1</th>\n      <td>1107684</td>\n      <td>6</td>\n      <td>10</td>\n      <td>5</td>\n      <td>5</td>\n      <td>4</td>\n      <td>10</td>\n      <td>6</td>\n      <td>10</td>\n      <td>1</td>\n      <td>4</td>\n    </tr>\n    <tr>\n      <th>2</th>\n      <td>691628</td>\n      <td>8</td>\n      <td>6</td>\n      <td>4</td>\n      <td>10</td>\n      <td>10</td>\n      <td>1</td>\n      <td>3</td>\n      <td>5</td>\n      <td>1</td>\n      <td>4</td>\n    </tr>\n    <tr>\n      <th>3</th>\n      <td>1226612</td>\n      <td>7</td>\n      <td>5</td>\n      <td>6</td>\n      <td>3</td>\n      <td>3</td>\n      <td>8</td>\n      <td>7</td>\n      <td>4</td>\n      <td>1</td>\n      <td>4</td>\n    </tr>\n    <tr>\n      <th>4</th>\n      <td>1142706</td>\n      <td>5</td>\n      <td>10</td>\n      <td>10</td>\n      <td>10</td>\n      <td>6</td>\n      <td>10</td>\n      <td>6</td>\n      <td>5</td>\n      <td>2</td>\n      <td>4</td>\n    </tr>\n    <tr>\n      <th>...</th>\n      <td>...</td>\n      <td>...</td>\n      <td>...</td>\n      <td>...</td>\n      <td>...</td>\n      <td>...</td>\n      <td>...</td>\n      <td>...</td>\n      <td>...</td>\n      <td>...</td>\n      <td>...</td>\n    </tr>\n    <tr>\n      <th>15850</th>\n      <td>1169049</td>\n      <td>7</td>\n      <td>3</td>\n      <td>4</td>\n      <td>4</td>\n      <td>3</td>\n      <td>3</td>\n      <td>3</td>\n      <td>2</td>\n      <td>7</td>\n      <td>4</td>\n    </tr>\n    <tr>\n      <th>15851</th>\n      <td>1076352</td>\n      <td>3</td>\n      <td>6</td>\n      <td>4</td>\n      <td>10</td>\n      <td>3</td>\n      <td>3</td>\n      <td>3</td>\n      <td>4</td>\n      <td>1</td>\n      <td>4</td>\n    </tr>\n    <tr>\n      <th>15852</th>\n      <td>1107684</td>\n      <td>6</td>\n      <td>10</td>\n      <td>5</td>\n      <td>5</td>\n      <td>4</td>\n      <td>10</td>\n      <td>6</td>\n      <td>10</td>\n      <td>1</td>\n      <td>4</td>\n    </tr>\n    <tr>\n      <th>15853</th>\n      <td>1111249</td>\n      <td>10</td>\n      <td>6</td>\n      <td>6</td>\n      <td>3</td>\n      <td>4</td>\n      <td>5</td>\n      <td>3</td>\n      <td>6</td>\n      <td>1</td>\n      <td>4</td>\n    </tr>\n    <tr>\n      <th>15854</th>\n      <td>1106829</td>\n      <td>7</td>\n      <td>8</td>\n      <td>7</td>\n      <td>2</td>\n      <td>4</td>\n      <td>8</td>\n      <td>3</td>\n      <td>8</td>\n      <td>2</td>\n      <td>4</td>\n    </tr>\n  </tbody>\n</table>\n<p>15855 rows × 11 columns</p>\n</div>"
     },
     "metadata": {},
     "execution_count": 2
    }
   ],
   "source": [
    "# Read the CSV file\n",
    "df = pd.read_csv('breast-cancer-wisconsin.txt', sep=',', index_col='Index', header=0)\n",
    "# Print few rows from dataframe\n",
    "df"
   ]
  },
  {
   "cell_type": "markdown",
   "metadata": {},
   "source": [
    "# Check dataset information\n",
    "Let's find non-standard items in the dataset (if any)."
   ]
  },
  {
   "cell_type": "code",
   "execution_count": 3,
   "metadata": {
    "tags": []
   },
   "outputs": [
    {
     "output_type": "stream",
     "name": "stdout",
     "text": "<class 'pandas.core.frame.DataFrame'>\nInt64Index: 15855 entries, 0 to 15854\nData columns (total 11 columns):\n #   Column                       Non-Null Count  Dtype \n---  ------                       --------------  ----- \n 0   ID                           15855 non-null  int64 \n 1   Clump Thickness              15855 non-null  int64 \n 2   Uniformity of Cell Size      15827 non-null  object\n 3   Uniformity of Cell Shape     15827 non-null  object\n 4   Marginal Adhesion            15827 non-null  object\n 5   Single Epithelial Cell Size  15827 non-null  object\n 6   Bare Nuclei                  15827 non-null  object\n 7   Bland Chromatin              15827 non-null  object\n 8   Normal Nucleoli              15827 non-null  object\n 9   Mitoses                      15827 non-null  object\n 10  Class                        15827 non-null  object\ndtypes: int64(2), object(9)\nmemory usage: 1.5+ MB\n"
    }
   ],
   "source": [
    "df.info()"
   ]
  },
  {
   "cell_type": "markdown",
   "metadata": {},
   "source": [
    "Although, the data is supposed to have only numerical values in the columns, some are interpreted as Objects. Let's find unwanted values in each column."
   ]
  },
  {
   "cell_type": "code",
   "execution_count": 4,
   "metadata": {
    "tags": []
   },
   "outputs": [
    {
     "output_type": "stream",
     "name": "stdout",
     "text": "Unique values in column \"Uniformity of Cell Size\"\":\n['8' '10' '6' '5' '4' '9' '3' '1' 'No idea' '2' '7' '50' '100' '30' nan\n '#' '?' '80' '40' '60' '90' '20'] \n\nUnique values in column \"Uniformity of Cell Shape\"\":\n['3' '5' '4' '6' '10' '7' '1' 'No idea' '2' '60' '100' '40' nan '#' '9'\n '8' '?' '30' '50' '70'] \n\nUnique values in column \"Marginal Adhesion\"\":\n['7' '5' '10' '3' '6' '4' '1' '2' 'No idea' '30' '40' nan '#' '8' '?' '70'\n '60' '100' '50' '9' '20'] \n\nUnique values in column \"Single Epithelial Cell Size\"\":\n['4' '10' '3' '6' '2' '8' 'No idea' '1' '30' nan '5' '#' '?' '40' '20' '7'\n '60' '80' '100' '9'] \n\nUnique values in column \"Bare Nuclei\"\":\n['5' '10' '1' '8' '2' '3' '6' 'No idea' '?' '80' '60' '30' nan '100' '#'\n '9' '50' '7' '4' '20'] \n\nUnique values in column \"Bland Chromatin\"\":\n['7' '6' '3' '2' '4' 'No idea' '1' '5' '70' '30' nan '40' '#' '10' '8' '?'\n '20' '9' '60' '50'] \n\nUnique values in column \"Normal Nucleoli\"\":\n['8' '10' '5' '4' '3' '7' '2' '6' '9' '1' 'No idea' '40' '90' '20' nan\n '30' '#' '?' '80' '60' '50' '100' '70'] \n\nUnique values in column \"Mitoses\"\":\n['2' '1' '7' 'No idea' '3' '10' '70' '8' nan '20' '#' '6' '?' '4' '5'] \n\nUnique values in column \"Class\"\":\n['4' '2' 'No idea' '40' nan '#' '?' '20'] \n\n"
    }
   ],
   "source": [
    "# Print unique values of each column\n",
    "def print_unique(np_arr):\n",
    "    for col in np_arr:\n",
    "        print('Unique values in column \"{}\"\":'. format(col))\n",
    "        print(df[col].unique(),'\\n')\n",
    "\n",
    "# Print information about Object columns only (remove first two columns)\n",
    "print_unique(np.delete(df.columns.values, [0,1], axis=0))"
   ]
  },
  {
   "cell_type": "markdown",
   "metadata": {},
   "source": [
    "OK! Let's replace \\['No idea', '#', '?'\\] with np.nan:"
   ]
  },
  {
   "cell_type": "code",
   "execution_count": 5,
   "metadata": {
    "tags": []
   },
   "outputs": [
    {
     "output_type": "stream",
     "name": "stdout",
     "text": "Unique values in column \"Uniformity of Cell Size\"\":\n['8' '10' '6' '5' '4' '9' '3' '1' nan '2' '7' '50' '100' '30' '80' '40'\n '60' '90' '20'] \n\nUnique values in column \"Uniformity of Cell Shape\"\":\n['3' '5' '4' '6' '10' '7' '1' nan '2' '60' '100' '40' '9' '8' '30' '50'\n '70'] \n\nUnique values in column \"Marginal Adhesion\"\":\n['7' '5' '10' '3' '6' '4' '1' '2' nan '30' '40' '8' '70' '60' '100' '50'\n '9' '20'] \n\nUnique values in column \"Single Epithelial Cell Size\"\":\n['4' '10' '3' '6' '2' '8' nan '1' '30' '5' '40' '20' '7' '60' '80' '100'\n '9'] \n\nUnique values in column \"Bare Nuclei\"\":\n['5' '10' '1' '8' '2' '3' '6' nan '80' '60' '30' '100' '9' '50' '7' '4'\n '20'] \n\nUnique values in column \"Bland Chromatin\"\":\n['7' '6' '3' '2' '4' nan '1' '5' '70' '30' '40' '10' '8' '20' '9' '60'\n '50'] \n\nUnique values in column \"Normal Nucleoli\"\":\n['8' '10' '5' '4' '3' '7' '2' '6' '9' '1' nan '40' '90' '20' '30' '80'\n '60' '50' '100' '70'] \n\nUnique values in column \"Mitoses\"\":\n['2' '1' '7' nan '3' '10' '70' '8' '20' '6' '4' '5'] \n\nUnique values in column \"Class\"\":\n['4' '2' nan '40' '20'] \n\n"
    }
   ],
   "source": [
    "df = df.replace(['No idea', '#', '?'], np.nan)\n",
    "print_unique(np.delete(df.columns.values, [0,1], axis=0))"
   ]
  },
  {
   "cell_type": "markdown",
   "metadata": {},
   "source": [
    "The dataset looks much better already! Now, we remove nan values and change column types to numeric and check the Class column value counts and convert 20 and 40 to 2 and 4!"
   ]
  },
  {
   "cell_type": "code",
   "execution_count": 6,
   "metadata": {
    "tags": []
   },
   "outputs": [
    {
     "output_type": "execute_result",
     "data": {
      "text/plain": "4    15162\n2      442\nName: Class, dtype: int64"
     },
     "metadata": {},
     "execution_count": 6
    }
   ],
   "source": [
    "df = df.dropna()\n",
    "df= df.apply(pd.to_numeric)\n",
    "df = df[df['Class'] != 20]\n",
    "df = df[df['Class'] != 40]\n",
    "# df['Class'] = df['Class'].replace(20, 2)\n",
    "# df['Class'] = df['Class'].replace(40, 4)\n",
    "df['Class']=df['Class'].astype('category')\n",
    "df['Class'].value_counts()\n"
   ]
  },
  {
   "cell_type": "markdown",
   "metadata": {},
   "source": [
    "# Explatory Data Analysis\n",
    "\n",
    "Let's plot the columns in the data frame against each other. "
   ]
  },
  {
   "cell_type": "code",
   "execution_count": 7,
   "metadata": {
    "tags": []
   },
   "outputs": [],
   "source": [
    "\n",
    "g = sns.PairGrid(df.drop('ID', axis=1), hue='Class')\n",
    "g = g.map_diag(plt.hist)\n",
    "g = g.map_offdiag(plt.scatter)\n",
    "g = g.add_legend()\n",
    "plt.show()\n",
    "g.savefig('res.png')"
   ]
  },
  {
   "cell_type": "markdown",
   "metadata": {},
   "source": [
    "# Classification"
   ]
  },
  {
   "cell_type": "code",
   "execution_count": 14,
   "metadata": {},
   "outputs": [],
   "source": [
    "X = df.loc[:, ~df.columns.isin(['ID'])]\n",
    "y = df['Class'] \n",
    "X_train, X_test, y_train, y_test = train_test_split(X,y)"
   ]
  },
  {
   "cell_type": "code",
   "execution_count": null,
   "metadata": {},
   "outputs": [],
   "source": []
  }
 ],
 "metadata": {
  "language_info": {
   "codemirror_mode": {
    "name": "ipython",
    "version": 3
   },
   "file_extension": ".py",
   "mimetype": "text/x-python",
   "name": "python",
   "nbconvert_exporter": "python",
   "pygments_lexer": "ipython3",
   "version": "3.7.7-final"
  },
  "orig_nbformat": 2,
  "kernelspec": {
   "name": "python37764bit29c791db4461498abe19f5d97cdda59e",
   "display_name": "Python 3.7.7 64-bit"
  }
 },
 "nbformat": 4,
 "nbformat_minor": 2
}